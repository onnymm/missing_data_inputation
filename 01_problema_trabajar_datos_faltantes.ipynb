{
 "cells": [
  {
   "cell_type": "code",
   "execution_count": 16,
   "metadata": {},
   "outputs": [],
   "source": [
    "import pandas as pd\n",
    "import seaborn as sns\n",
    "import janitor\n",
    "\n",
    "import statsmodels.api as sm\n",
    "import statsmodels.formula.api as smf"
   ]
  },
  {
   "cell_type": "code",
   "execution_count": 2,
   "metadata": {},
   "outputs": [],
   "source": [
    "# Configuración del aspecto general de las gráficas\n",
    "%matplotlib inline\n",
    "\n",
    "sns.set_theme(\n",
    "    rc= {\n",
    "        'figure.figsize': (8, 6)\n",
    "    }\n",
    ")\n",
    "\n",
    "sns.set_style(\"whitegrid\")"
   ]
  },
  {
   "cell_type": "markdown",
   "metadata": {},
   "source": [
    "## El problema de trabajar con valores faltantes"
   ]
  },
  {
   "cell_type": "markdown",
   "metadata": {},
   "source": [
    "Comencemos con un ejemplo sobre cómo trabajar con valores faltantes nos puede traer problemas. Para esto vamos a acceder a un conjunto de datos que nos provee el submódulo `datasets` de `statsmodels.api` los cuales tienen origen desde conjuntos de datos de `R`, los cuales son meramente de prueba."
   ]
  },
  {
   "cell_type": "markdown",
   "metadata": {},
   "source": [
    "### Conjunto de datos Air Quality"
   ]
  },
  {
   "cell_type": "markdown",
   "metadata": {},
   "source": [
    "Medidas de Calidad del Aire en Nueva York\n",
    "\n",
    "**Descripción**\n",
    "\n",
    "El conjunto de datos contiene mediciones diarias de la calidad del aire en Nueva York, recopiladas desde mayo hasta septiembre de 1973.\n",
    "\n",
    "**Formato**\n",
    "\n",
    "El conjunto de datos es un DataFrame con 153 observaciones sobre 6 variables:\n",
    "\n",
    "**Variables contenidas en el conjunto de datos**\n",
    "\n",
    "- **Ozone**: Ozono (ppb)\n",
    "- **Solar.R**: Radiación solar (lang)\n",
    "- **Wind**: Velocidad del viento (mph)\n",
    "- **Temp**: Temperatura (grados Fahrenheit)\n",
    "- **Month**: Mes (1-12)\n",
    "- **Day**: Día del mes (1-31)\n",
    "\n",
    "**Detalles**\n",
    "\n",
    "Las lecturas diarias de los valores de calidad del aire fueron tomadas desde el 1 de mayo de 1973 (un martes) hasta el 30 de septiembre de 1973. Las variables medidas incluyen:\n",
    "\n",
    "- **Ozone**: Media de ozono en partes por billón (ppb) entre las 13:00 y 15:00 horas en Roosevelt Island.\n",
    "- **Solar.R**: Radiación solar en Langleys en el rango de frecuencias de 4000–7700 Angstroms entre las 08:00 y 12:00 horas en Central Park.\n",
    "- **Wind**: Velocidad media del viento en millas por hora a las 07:00 y 10:00 horas en el Aeropuerto LaGuardia.\n",
    "- **Temp**: Temperatura máxima diaria en grados Fahrenheit en el Aeropuerto LaGuardia.\n",
    "\n",
    "**Fuente**\n",
    "\n",
    "Los datos fueron obtenidos del Departamento de Conservación del Estado de Nueva York (datos de ozono) y del Servicio Meteorológico Nacional (datos meteorológicos).\n",
    "\n",
    "**Referencias**\n",
    "\n",
    "Chambers, J. M., Cleveland, W. S., Kleiner, B. and Tukey, P. A. (1983). Graphical Methods for Data Analysis. Belmont, CA: Wadsworth.\n",
    "\n",
    "Esta información se encuentra en el atributo `__doc__` del objeto Dataset obtenido de la función `get_rdataset`."
   ]
  },
  {
   "cell_type": "code",
   "execution_count": 28,
   "metadata": {},
   "outputs": [
    {
     "name": "stderr",
     "output_type": "stream",
     "text": [
      "c:\\Users\\Pável Hernández\\Documents\\platzi\\missing_data_inputation\\env\\Lib\\site-packages\\pandas_flavor\\register.py:157: FutureWarning: This function will be deprecated in a 1.x release. Please use `pd.DataFrame.assign` instead.\n",
      "  return method(self._obj, *args, **kwargs)\n"
     ]
    },
    {
     "data": {
      "text/html": [
       "<div>\n",
       "<style scoped>\n",
       "    .dataframe tbody tr th:only-of-type {\n",
       "        vertical-align: middle;\n",
       "    }\n",
       "\n",
       "    .dataframe tbody tr th {\n",
       "        vertical-align: top;\n",
       "    }\n",
       "\n",
       "    .dataframe thead th {\n",
       "        text-align: right;\n",
       "    }\n",
       "</style>\n",
       "<table border=\"1\" class=\"dataframe\">\n",
       "  <thead>\n",
       "    <tr style=\"text-align: right;\">\n",
       "      <th></th>\n",
       "      <th>ozone</th>\n",
       "      <th>solar_r</th>\n",
       "      <th>wind</th>\n",
       "      <th>temp</th>\n",
       "      <th>month</th>\n",
       "      <th>day</th>\n",
       "      <th>year</th>\n",
       "    </tr>\n",
       "    <tr>\n",
       "      <th>date</th>\n",
       "      <th></th>\n",
       "      <th></th>\n",
       "      <th></th>\n",
       "      <th></th>\n",
       "      <th></th>\n",
       "      <th></th>\n",
       "      <th></th>\n",
       "    </tr>\n",
       "  </thead>\n",
       "  <tbody>\n",
       "    <tr>\n",
       "      <th>1973-05-01</th>\n",
       "      <td>41.0</td>\n",
       "      <td>190.0</td>\n",
       "      <td>7.4</td>\n",
       "      <td>67</td>\n",
       "      <td>5</td>\n",
       "      <td>1</td>\n",
       "      <td>1973</td>\n",
       "    </tr>\n",
       "    <tr>\n",
       "      <th>1973-05-02</th>\n",
       "      <td>36.0</td>\n",
       "      <td>118.0</td>\n",
       "      <td>8.0</td>\n",
       "      <td>72</td>\n",
       "      <td>5</td>\n",
       "      <td>2</td>\n",
       "      <td>1973</td>\n",
       "    </tr>\n",
       "    <tr>\n",
       "      <th>1973-05-03</th>\n",
       "      <td>12.0</td>\n",
       "      <td>149.0</td>\n",
       "      <td>12.6</td>\n",
       "      <td>74</td>\n",
       "      <td>5</td>\n",
       "      <td>3</td>\n",
       "      <td>1973</td>\n",
       "    </tr>\n",
       "  </tbody>\n",
       "</table>\n",
       "</div>"
      ],
      "text/plain": [
       "            ozone  solar_r  wind  temp  month  day  year\n",
       "date                                                    \n",
       "1973-05-01   41.0    190.0   7.4    67      5    1  1973\n",
       "1973-05-02   36.0    118.0   8.0    72      5    2  1973\n",
       "1973-05-03   12.0    149.0  12.6    74      5    3  1973"
      ]
     },
     "execution_count": 28,
     "metadata": {},
     "output_type": "execute_result"
    }
   ],
   "source": [
    "airquality_df = (\n",
    "    # El método nos devuelve un objeto Dataset \n",
    "    sm.datasets.get_rdataset('airquality')\n",
    "    # Accedemos al DataFrame\n",
    "    .data\n",
    "    # Convertimos la estructura de los nombres a Snake Case\n",
    "    .clean_names(\n",
    "        case_type= 'snake'\n",
    "    )\n",
    "    # Añadimos la columna 'year' con el valor [1973] por defecto\n",
    "    .add_column('year', 1973)\n",
    "    # Con ello creamos una columna para contener la fecha completa en formato [datetime]\n",
    "    .assign(\n",
    "        date= lambda df: pd.to_datetime(df[['year', 'month', 'day']])\n",
    "    )\n",
    "    # Ordenamos las observaciones por fecha\n",
    "    .sort_values(by= 'date')\n",
    "    # Convertimos la columna de fecha a índice\n",
    "    .set_index('date')\n",
    ")\n",
    "\n",
    "airquality_df.head(3)"
   ]
  },
  {
   "cell_type": "markdown",
   "metadata": {},
   "source": [
    "Imaginemos que utilizaremos este conjunto de datos y queremos ajustar algún modelo de regresión lineal. Utilizamos `statsmodels` para esto. Nuestra intención es intentar predecir la temperatura a partir de los valores el ozono, variable que contiene datos faltantes."
   ]
  },
  {
   "cell_type": "code",
   "execution_count": 29,
   "metadata": {},
   "outputs": [
    {
     "data": {
      "text/html": [
       "<table class=\"simpletable\">\n",
       "<caption>OLS Regression Results</caption>\n",
       "<tr>\n",
       "  <th>Dep. Variable:</th>          <td>temp</td>       <th>  R-squared:         </th> <td>   0.488</td>\n",
       "</tr>\n",
       "<tr>\n",
       "  <th>Model:</th>                   <td>OLS</td>       <th>  Adj. R-squared:    </th> <td>   0.483</td>\n",
       "</tr>\n",
       "<tr>\n",
       "  <th>Method:</th>             <td>Least Squares</td>  <th>  F-statistic:       </th> <td>   108.5</td>\n",
       "</tr>\n",
       "<tr>\n",
       "  <th>Date:</th>             <td>Mon, 17 Jun 2024</td> <th>  Prob (F-statistic):</th> <td>2.93e-18</td>\n",
       "</tr>\n",
       "<tr>\n",
       "  <th>Time:</th>                 <td>20:29:22</td>     <th>  Log-Likelihood:    </th> <td> -386.27</td>\n",
       "</tr>\n",
       "<tr>\n",
       "  <th>No. Observations:</th>      <td>   116</td>      <th>  AIC:               </th> <td>   776.5</td>\n",
       "</tr>\n",
       "<tr>\n",
       "  <th>Df Residuals:</th>          <td>   114</td>      <th>  BIC:               </th> <td>   782.1</td>\n",
       "</tr>\n",
       "<tr>\n",
       "  <th>Df Model:</th>              <td>     1</td>      <th>                     </th>     <td> </td>   \n",
       "</tr>\n",
       "<tr>\n",
       "  <th>Covariance Type:</th>      <td>nonrobust</td>    <th>                     </th>     <td> </td>   \n",
       "</tr>\n",
       "</table>"
      ],
      "text/latex": [
       "\\begin{center}\n",
       "\\begin{tabular}{lclc}\n",
       "\\toprule\n",
       "\\textbf{Dep. Variable:}    &       temp       & \\textbf{  R-squared:         } &    0.488  \\\\\n",
       "\\textbf{Model:}            &       OLS        & \\textbf{  Adj. R-squared:    } &    0.483  \\\\\n",
       "\\textbf{Method:}           &  Least Squares   & \\textbf{  F-statistic:       } &    108.5  \\\\\n",
       "\\textbf{Date:}             & Mon, 17 Jun 2024 & \\textbf{  Prob (F-statistic):} & 2.93e-18  \\\\\n",
       "\\textbf{Time:}             &     20:29:22     & \\textbf{  Log-Likelihood:    } &  -386.27  \\\\\n",
       "\\textbf{No. Observations:} &         116      & \\textbf{  AIC:               } &    776.5  \\\\\n",
       "\\textbf{Df Residuals:}     &         114      & \\textbf{  BIC:               } &    782.1  \\\\\n",
       "\\textbf{Df Model:}         &           1      & \\textbf{                     } &           \\\\\n",
       "\\textbf{Covariance Type:}  &    nonrobust     & \\textbf{                     } &           \\\\\n",
       "\\bottomrule\n",
       "\\end{tabular}\n",
       "%\\caption{OLS Regression Results}\n",
       "\\end{center}"
      ],
      "text/plain": [
       "<class 'statsmodels.iolib.table.SimpleTable'>"
      ]
     },
     "execution_count": 29,
     "metadata": {},
     "output_type": "execute_result"
    }
   ],
   "source": [
    "(\n",
    "    # Usamos [ols] de statsmodels.formula\n",
    "    smf.ols(\n",
    "        # Obtenemos la temperatura a partir del ozono\n",
    "        formula= 'temp ~ ozone',\n",
    "        # Proporcionamos nuestro DataFrame como argumento de datos\n",
    "        data= airquality_df\n",
    "    )\n",
    "    # Realizamos el ajuste del modelo\n",
    "    .fit()\n",
    "    # Obtenemos el resumen de nuestro modelo\n",
    "    .summary()\n",
    "    # Accedemos a la tabla de nuestro interés\n",
    "    .tables[0]\n",
    ")"
   ]
  },
  {
   "cell_type": "markdown",
   "metadata": {},
   "source": [
    "Podemos ver que en nuestro resultado tenemos 116 observaciones analizadas.\n",
    "\n",
    "¿Qué pasa si ahora consideramos otra variable además del ozono?"
   ]
  },
  {
   "cell_type": "code",
   "execution_count": 8,
   "metadata": {},
   "outputs": [
    {
     "data": {
      "text/html": [
       "<table class=\"simpletable\">\n",
       "<caption>OLS Regression Results</caption>\n",
       "<tr>\n",
       "  <th>Dep. Variable:</th>          <td>temp</td>       <th>  R-squared:         </th> <td>   0.491</td>\n",
       "</tr>\n",
       "<tr>\n",
       "  <th>Model:</th>                   <td>OLS</td>       <th>  Adj. R-squared:    </th> <td>   0.481</td>\n",
       "</tr>\n",
       "<tr>\n",
       "  <th>Method:</th>             <td>Least Squares</td>  <th>  F-statistic:       </th> <td>   52.07</td>\n",
       "</tr>\n",
       "<tr>\n",
       "  <th>Date:</th>             <td>Thu, 13 Jun 2024</td> <th>  Prob (F-statistic):</th> <td>1.47e-16</td>\n",
       "</tr>\n",
       "<tr>\n",
       "  <th>Time:</th>                 <td>20:29:27</td>     <th>  Log-Likelihood:    </th> <td> -369.78</td>\n",
       "</tr>\n",
       "<tr>\n",
       "  <th>No. Observations:</th>      <td>   111</td>      <th>  AIC:               </th> <td>   745.6</td>\n",
       "</tr>\n",
       "<tr>\n",
       "  <th>Df Residuals:</th>          <td>   108</td>      <th>  BIC:               </th> <td>   753.7</td>\n",
       "</tr>\n",
       "<tr>\n",
       "  <th>Df Model:</th>              <td>     2</td>      <th>                     </th>     <td> </td>   \n",
       "</tr>\n",
       "<tr>\n",
       "  <th>Covariance Type:</th>      <td>nonrobust</td>    <th>                     </th>     <td> </td>   \n",
       "</tr>\n",
       "</table>"
      ],
      "text/latex": [
       "\\begin{center}\n",
       "\\begin{tabular}{lclc}\n",
       "\\toprule\n",
       "\\textbf{Dep. Variable:}    &       temp       & \\textbf{  R-squared:         } &    0.491  \\\\\n",
       "\\textbf{Model:}            &       OLS        & \\textbf{  Adj. R-squared:    } &    0.481  \\\\\n",
       "\\textbf{Method:}           &  Least Squares   & \\textbf{  F-statistic:       } &    52.07  \\\\\n",
       "\\textbf{Date:}             & Thu, 13 Jun 2024 & \\textbf{  Prob (F-statistic):} & 1.47e-16  \\\\\n",
       "\\textbf{Time:}             &     20:29:27     & \\textbf{  Log-Likelihood:    } &  -369.78  \\\\\n",
       "\\textbf{No. Observations:} &         111      & \\textbf{  AIC:               } &    745.6  \\\\\n",
       "\\textbf{Df Residuals:}     &         108      & \\textbf{  BIC:               } &    753.7  \\\\\n",
       "\\textbf{Df Model:}         &           2      & \\textbf{                     } &           \\\\\n",
       "\\textbf{Covariance Type:}  &    nonrobust     & \\textbf{                     } &           \\\\\n",
       "\\bottomrule\n",
       "\\end{tabular}\n",
       "%\\caption{OLS Regression Results}\n",
       "\\end{center}"
      ],
      "text/plain": [
       "<class 'statsmodels.iolib.table.SimpleTable'>"
      ]
     },
     "execution_count": 8,
     "metadata": {},
     "output_type": "execute_result"
    }
   ],
   "source": [
    "(\n",
    "    smf.ols(\n",
    "        formula= 'temp ~ ozone + solar_r',\n",
    "        data= airquality_df\n",
    "    )\n",
    "    .fit()\n",
    "    .summary()\n",
    "    .tables[0]\n",
    ")"
   ]
  },
  {
   "cell_type": "markdown",
   "metadata": {},
   "source": [
    "Podemos observar que ahora sólo hay 111 observaciones analizadas. No podemos hacer una comparación de este modelo con el anterior ya que desde un inicio las observaciones ingresadas al modelo no son las mismas, por ende, los resultados serán distintos.\n",
    "\n",
    "Esto sucede porque hemos perdido datos al ingresar esta segunda variable ya que ésta también contiene valores faltantes en algunas observaciones.\n",
    "\n",
    "Por defecto, se están descartando estas observaciones incompletas por el modelo. Esto significa un gran problema y debemos estar atentos a ello. Por esto, se requiere abordar el problema para encontrar una solución adecuada y que nos ayude a realizar el ajuste de nuestros modelos de una forma deseada y correcta."
   ]
  }
 ],
 "metadata": {
  "kernelspec": {
   "display_name": "env",
   "language": "python",
   "name": "python3"
  },
  "language_info": {
   "codemirror_mode": {
    "name": "ipython",
    "version": 3
   },
   "file_extension": ".py",
   "mimetype": "text/x-python",
   "name": "python",
   "nbconvert_exporter": "python",
   "pygments_lexer": "ipython3",
   "version": "3.12.2"
  }
 },
 "nbformat": 4,
 "nbformat_minor": 2
}
