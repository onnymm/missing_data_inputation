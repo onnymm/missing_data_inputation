{
 "cells": [
  {
   "cell_type": "markdown",
   "metadata": {},
   "source": [
    "# Manejo de Datos Faltantes: Imputación"
   ]
  },
  {
   "cell_type": "markdown",
   "metadata": {},
   "source": [
    "## El problema de trabajar con valores faltantes"
   ]
  },
  {
   "cell_type": "markdown",
   "metadata": {},
   "source": [
    "Uno de los primeros problemas que nos podemos encontrar es que, si por alguna razón, decidimos ignorar que tenemos datos faltantes y simplemente eliminamos las observaciones con valores faltantes podríamos estar introduciendo sesgos a nuestros análisis y nuestros modelo de tal forma que, si nosotros tenemos un dato real podríamos estar subestimándolo o sobrestimándolo lo cual puede provocar problemas muy serios al momento de reportar nuestros resultados.\n",
    "\n",
    "Otro problema con el que nos vamos a encontrar es que muchos de los algoritmos disponibles van a fallar, algunos mostrando errores y otros ejecutando las operaciones pero ignorando los valores faltantes. Esto es un problema porque no podremos comparar adecuadamente los resultados y las predicciones de nuestros análisis cuando se incluyen valores faltantes.."
   ]
  },
  {
   "cell_type": "markdown",
   "metadata": {},
   "source": [
    "## La imputación de valores"
   ]
  },
  {
   "cell_type": "markdown",
   "metadata": {},
   "source": [
    "¿Qué es la imputación? Se ha abordado este término desde antes. La imputación no es nada más que estimar los valores ausentes con base en los valores válidos de otras variables y/o casos de muestra."
   ]
  }
 ],
 "metadata": {
  "language_info": {
   "name": "python"
  }
 },
 "nbformat": 4,
 "nbformat_minor": 2
}
